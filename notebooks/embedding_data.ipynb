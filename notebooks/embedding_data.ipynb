{
 "cells": [
  {
   "cell_type": "code",
   "execution_count": 4,
   "metadata": {},
   "outputs": [],
   "source": [
    "import pandas as pd\n",
    "from sentence_transformers import SentenceTransformer\n",
    "from tqdm import tqdm"
   ]
  },
  {
   "cell_type": "code",
   "execution_count": 3,
   "metadata": {},
   "outputs": [
    {
     "data": {
      "text/html": [
       "<div>\n",
       "<style scoped>\n",
       "    .dataframe tbody tr th:only-of-type {\n",
       "        vertical-align: middle;\n",
       "    }\n",
       "\n",
       "    .dataframe tbody tr th {\n",
       "        vertical-align: top;\n",
       "    }\n",
       "\n",
       "    .dataframe thead th {\n",
       "        text-align: right;\n",
       "    }\n",
       "</style>\n",
       "<table border=\"1\" class=\"dataframe\">\n",
       "  <thead>\n",
       "    <tr style=\"text-align: right;\">\n",
       "      <th></th>\n",
       "      <th>prompt</th>\n",
       "      <th>completion</th>\n",
       "    </tr>\n",
       "  </thead>\n",
       "  <tbody>\n",
       "    <tr>\n",
       "      <th>0</th>\n",
       "      <td>What are some competitor and similar bikes to ...</td>\n",
       "      <td>The bikes in competition and similar to the no...</td>\n",
       "    </tr>\n",
       "    <tr>\n",
       "      <th>1</th>\n",
       "      <td>What is the Displacement of norton v4rr?</td>\n",
       "      <td>The Displacement of norton v4rr is 1200cc</td>\n",
       "    </tr>\n",
       "    <tr>\n",
       "      <th>2</th>\n",
       "      <td>What is the Max Power of norton v4rr?</td>\n",
       "      <td>The Max Power of norton v4rr is 200 bhp</td>\n",
       "    </tr>\n",
       "    <tr>\n",
       "      <th>3</th>\n",
       "      <td>What is the Max Torque of norton v4rr?</td>\n",
       "      <td>The Max Torque of norton v4rr is 130 Nm</td>\n",
       "    </tr>\n",
       "    <tr>\n",
       "      <th>4</th>\n",
       "      <td>What is the Transmission of norton v4rr?</td>\n",
       "      <td>The Transmission of norton v4rr is 6 Speed Manual</td>\n",
       "    </tr>\n",
       "  </tbody>\n",
       "</table>\n",
       "</div>"
      ],
      "text/plain": [
       "                                              prompt  \\\n",
       "0  What are some competitor and similar bikes to ...   \n",
       "1           What is the Displacement of norton v4rr?   \n",
       "2              What is the Max Power of norton v4rr?   \n",
       "3             What is the Max Torque of norton v4rr?   \n",
       "4           What is the Transmission of norton v4rr?   \n",
       "\n",
       "                                          completion  \n",
       "0  The bikes in competition and similar to the no...  \n",
       "1          The Displacement of norton v4rr is 1200cc  \n",
       "2           The Max Power of norton v4rr is 200 bhp   \n",
       "3           The Max Torque of norton v4rr is 130 Nm   \n",
       "4  The Transmission of norton v4rr is 6 Speed Manual  "
      ]
     },
     "execution_count": 3,
     "metadata": {},
     "output_type": "execute_result"
    }
   ],
   "source": [
    "# Load the data from the json file\n",
    "df = pd.read_json('../data/raw/prompt_dict_updated.json')\n",
    "df.head()"
   ]
  },
  {
   "cell_type": "code",
   "execution_count": 5,
   "metadata": {},
   "outputs": [
    {
     "name": "stderr",
     "output_type": "stream",
     "text": [
      "c:\\Users\\ylfgh\\Documents\\Python_Projects\\RAG_Seminaire\\.venv\\Lib\\site-packages\\huggingface_hub\\file_download.py:140: UserWarning: `huggingface_hub` cache-system uses symlinks by default to efficiently store duplicated files but your machine does not support them in C:\\Users\\ylfgh\\.cache\\huggingface\\hub\\models--sentence-transformers--all-mpnet-base-v2. Caching files will still work but in a degraded version that might require more space on your disk. This warning can be disabled by setting the `HF_HUB_DISABLE_SYMLINKS_WARNING` environment variable. For more details, see https://huggingface.co/docs/huggingface_hub/how-to-cache#limitations.\n",
      "To support symlinks on Windows, you either need to activate Developer Mode or to run Python as an administrator. In order to activate developer mode, see this article: https://docs.microsoft.com/en-us/windows/apps/get-started/enable-your-device-for-development\n",
      "  warnings.warn(message)\n",
      "Generating Embeddings: 100%|██████████| 88103/88103 [1:24:49<00:00, 17.31it/s]"
     ]
    },
    {
     "name": "stdout",
     "output_type": "stream",
     "text": [
      "                                              prompt  \\\n",
      "0  What are some competitor and similar bikes to ...   \n",
      "1           What is the Displacement of norton v4rr?   \n",
      "2              What is the Max Power of norton v4rr?   \n",
      "3             What is the Max Torque of norton v4rr?   \n",
      "4           What is the Transmission of norton v4rr?   \n",
      "\n",
      "                                          completion  \\\n",
      "0  The bikes in competition and similar to the no...   \n",
      "1          The Displacement of norton v4rr is 1200cc   \n",
      "2           The Max Power of norton v4rr is 200 bhp    \n",
      "3           The Max Torque of norton v4rr is 130 Nm    \n",
      "4  The Transmission of norton v4rr is 6 Speed Manual   \n",
      "\n",
      "                                          embeddings  \n",
      "0  [0.006046163, 0.03744517, 0.022566658, 0.01143...  \n",
      "1  [-0.016834032, -0.04613884, -0.020818263, 0.02...  \n",
      "2  [-0.021918112, -0.0398577, 0.018107235, 0.0250...  \n",
      "3  [-0.008746674, -0.062696345, 0.015147145, 0.01...  \n",
      "4  [-0.016276728, -0.028612673, -0.004391657, 0.0...  \n"
     ]
    },
    {
     "name": "stderr",
     "output_type": "stream",
     "text": [
      "\n"
     ]
    }
   ],
   "source": [
    "# Load the model\n",
    "model = SentenceTransformer('sentence-transformers/all-mpnet-base-v2')\n",
    "\n",
    "# Apply tqdm for progress tracking\n",
    "tqdm.pandas(desc=\"Generating Embeddings\")\n",
    "df[\"embeddings\"] = df[\"prompt\"].progress_apply(lambda x: model.encode(x))\n",
    "\n",
    "# Display the updated dataframe\n",
    "print(df.head())\n"
   ]
  },
  {
   "cell_type": "code",
   "execution_count": 10,
   "metadata": {},
   "outputs": [
    {
     "name": "stdout",
     "output_type": "stream",
     "text": [
      "<class 'pandas.core.frame.DataFrame'>\n",
      "RangeIndex: 88103 entries, 0 to 88102\n",
      "Data columns (total 3 columns):\n",
      " #   Column      Non-Null Count  Dtype \n",
      "---  ------      --------------  ----- \n",
      " 0   prompt      88103 non-null  object\n",
      " 1   completion  88103 non-null  object\n",
      " 2   embeddings  88103 non-null  object\n",
      "dtypes: object(3)\n",
      "memory usage: 2.0+ MB\n"
     ]
    }
   ],
   "source": [
    "df.info()"
   ]
  },
  {
   "cell_type": "code",
   "execution_count": 11,
   "metadata": {},
   "outputs": [],
   "source": [
    "df.to_parquet('../data/processed/prompt_dict_updated.parquet', engine='pyarrow')"
   ]
  },
  {
   "cell_type": "code",
   "execution_count": 8,
   "metadata": {},
   "outputs": [
    {
     "name": "stdout",
     "output_type": "stream",
     "text": [
      "Model saved to ../models/all-mpnet-base-v2\n"
     ]
    }
   ],
   "source": [
    "local_model_path = \"../models/all-mpnet-base-v2\"\n",
    "model.save(local_model_path)\n",
    "print(f\"Model saved to {local_model_path}\")"
   ]
  },
  {
   "cell_type": "code",
   "execution_count": 9,
   "metadata": {},
   "outputs": [],
   "source": [
    "test_model = SentenceTransformer(local_model_path)"
   ]
  }
 ],
 "metadata": {
  "kernelspec": {
   "display_name": ".venv",
   "language": "python",
   "name": "python3"
  },
  "language_info": {
   "codemirror_mode": {
    "name": "ipython",
    "version": 3
   },
   "file_extension": ".py",
   "mimetype": "text/x-python",
   "name": "python",
   "nbconvert_exporter": "python",
   "pygments_lexer": "ipython3",
   "version": "3.12.4"
  }
 },
 "nbformat": 4,
 "nbformat_minor": 2
}
